{
 "cells": [
  {
   "cell_type": "code",
   "execution_count": 1,
   "id": "19354127-dfb5-4b93-b094-fff882d928fb",
   "metadata": {},
   "outputs": [],
   "source": [
    "import warnings\n",
    "warnings.filterwarnings('ignore')\n",
    "\n",
    "sys.path.append(os.path.abspath('../../src'))"
   ]
  },
  {
   "cell_type": "code",
   "execution_count": 2,
   "id": "1c6cd89e-0a06-4163-b345-c7a7ee3c978c",
   "metadata": {},
   "outputs": [],
   "source": [
    "import numpy as np\n",
    "import torch\n",
    "\n",
    "from copolymer_simulator import Simulator\n",
    "from fixed_noise_gp import get_gp, train_gp"
   ]
  },
  {
   "cell_type": "code",
   "execution_count": 3,
   "id": "da21e2c5-738c-4431-b55a-03ebdb55b8ba",
   "metadata": {},
   "outputs": [],
   "source": [
    "simulator = Simulator()"
   ]
  },
  {
   "cell_type": "code",
   "execution_count": 4,
   "id": "41909e33-8491-46f6-870c-054a22d86695",
   "metadata": {},
   "outputs": [],
   "source": [
    "X1_range = np.linspace(15, 53, 20)\n",
    "X2_range = np.linspace(0, 100, 51)\n",
    "\n",
    "X1, X2 = np.meshgrid(X1_range, X2_range)\n",
    "X1_flat = X1.flatten()\n",
    "X2_flat = X2.flatten()\n",
    "grid_points = np.column_stack((X1_flat, X2_flat))  # Shape (1020, 2)\n",
    "X = torch.from_numpy(grid_points)\n",
    "X = X.clone().detach().requires_grad_(True)"
   ]
  },
  {
   "cell_type": "code",
   "execution_count": 5,
   "id": "2d064922-0371-48a0-ac31-68f25e7477b5",
   "metadata": {},
   "outputs": [],
   "source": [
    "y = torch.tensor(simulator.data_table.sort_values(by=['x2', 'x1'])['rg_mean']).reshape(-1, 1)\n",
    "noise = torch.tensor(simulator.data_table.sort_values(by=['x2', 'x1'])['rg_std']).reshape(-1, 1)"
   ]
  },
  {
   "cell_type": "code",
   "execution_count": 6,
   "id": "a7e06f18-499b-4cf1-b517-c3af0e29090f",
   "metadata": {},
   "outputs": [],
   "source": [
    "model = train_gp(get_gp(X, y, noise))"
   ]
  },
  {
   "cell_type": "code",
   "execution_count": 7,
   "id": "dc75f41d-e369-4cae-b821-d73c1a333f67",
   "metadata": {},
   "outputs": [],
   "source": [
    "model.eval()\n",
    "posterior = model.posterior(X)\n",
    "mean = posterior.mean.squeeze()\n",
    "\n",
    "grads = torch.autograd.grad(\n",
    "    outputs=mean,\n",
    "    inputs=X,\n",
    "    grad_outputs=torch.ones_like(mean),\n",
    "    retain_graph=True,\n",
    "    create_graph=False,\n",
    ")[0]\n",
    "\n",
    "df_dx1 = grads[:, 0]"
   ]
  },
  {
   "cell_type": "code",
   "execution_count": 8,
   "id": "92516cd9-9f7d-4463-9e0d-ea78caa80768",
   "metadata": {},
   "outputs": [],
   "source": [
    "df_dx1 = df_dx1.reshape((51, 20)).detach().numpy()"
   ]
  },
  {
   "cell_type": "code",
   "execution_count": null,
   "id": "2edef49d-0620-406d-841d-bb036ae20714",
   "metadata": {},
   "outputs": [],
   "source": []
  }
 ],
 "metadata": {
  "kernelspec": {
   "display_name": "Python 3 (ipykernel)",
   "language": "python",
   "name": "python3"
  },
  "language_info": {
   "codemirror_mode": {
    "name": "ipython",
    "version": 3
   },
   "file_extension": ".py",
   "mimetype": "text/x-python",
   "name": "python",
   "nbconvert_exporter": "python",
   "pygments_lexer": "ipython3",
   "version": "3.9.19"
  }
 },
 "nbformat": 4,
 "nbformat_minor": 5
}
